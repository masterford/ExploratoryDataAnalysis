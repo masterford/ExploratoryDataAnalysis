{
  "nbformat": 4,
  "nbformat_minor": 0,
  "metadata": {
    "colab": {
      "name": "545_final_project.ipynb",
      "provenance": [],
      "collapsed_sections": [],
      "authorship_tag": "ABX9TyMoHNBT+npXAzKERWQoCTAn",
      "include_colab_link": true
    },
    "kernelspec": {
      "name": "python3",
      "display_name": "Python 3"
    }
  },
  "cells": [
    {
      "cell_type": "markdown",
      "metadata": {
        "id": "view-in-github",
        "colab_type": "text"
      },
      "source": [
        "<a href=\"https://colab.research.google.com/github/masterford/ExploratoryDataAnalysis/blob/master/545_final_project.ipynb\" target=\"_parent\"><img src=\"https://colab.research.google.com/assets/colab-badge.svg\" alt=\"Open In Colab\"/></a>"
      ]
    },
    {
      "cell_type": "code",
      "metadata": {
        "id": "_e4KMfaaATzj",
        "colab_type": "code",
        "colab": {}
      },
      "source": [
        "#this cell holds the import statements\n",
        "import pandas as pd\n",
        "# Sqlite is a simplistic database\n",
        "import sqlite3\n",
        "\n",
        "import matplotlib.pyplot as plt"
      ],
      "execution_count": 0,
      "outputs": []
    },
    {
      "cell_type": "code",
      "metadata": {
        "id": "UQ_TuMySBURP",
        "colab_type": "code",
        "colab": {}
      },
      "source": [
        "#load data into colab\n",
        "url_list = [] \n",
        "url_list.append(\"https://raw.githubusercontent.com/masterford/ExploratoryDataAnalysis/master/data/financial_inclusion_africa_Train_v2.csv\")\n",
        "url_list.append(\"https://raw.githubusercontent.com/masterford/ExploratoryDataAnalysis/master/data/financial_inclusion_africa_Test_v2.csv\")\n",
        "url_list.append(\"https://raw.githubusercontent.com/masterford/ExploratoryDataAnalysis/master/data/VariableDefinitions.csv\")\n",
        "url_list.append(\"https://raw.githubusercontent.com/masterford/ExploratoryDataAnalysis/master/data/VariableDefinitions.csv\")\n",
        "url_list.append(\"https://raw.githubusercontent.com/masterford/ExploratoryDataAnalysis/master/data/momo_financial_incl_tanzania/training.csv\")\n",
        "url_list.append(\"https://raw.githubusercontent.com/masterford/ExploratoryDataAnalysis/master/data/momo_financial_incl_tanzania/test.csv\")\n",
        "url_list.append(\"https://raw.githubusercontent.com/masterford/ExploratoryDataAnalysis/master/data/momo_financial_incl_tanzania/FSDT_FinAccessMapping/3rd_ppp_for_upload_win.csv\")\n",
        "url_list.append(\"https://raw.githubusercontent.com/masterford/ExploratoryDataAnalysis/master/data/momo_financial_incl_tanzania/FSDT_FinAccessMapping/atm_for_upload_win.csv\")\n",
        "url_list.append(\"https://raw.githubusercontent.com/masterford/ExploratoryDataAnalysis/master/data/momo_financial_incl_tanzania/FSDT_FinAccessMapping/banks_for_upload_win.csv\")\n",
        "url_list.append(\"https://raw.githubusercontent.com/masterford/ExploratoryDataAnalysis/master/data/momo_financial_incl_tanzania/FSDT_FinAccessMapping/bus_stands_for_upload_win.csv\")\n",
        "url_list.append(\"https://raw.githubusercontent.com/masterford/ExploratoryDataAnalysis/master/data/momo_financial_incl_tanzania/FSDT_FinAccessMapping/microfinance_for_upload_win.csv\")\n",
        "url_list.append(\"https://raw.githubusercontent.com/masterford/ExploratoryDataAnalysis/master/data/momo_financial_incl_tanzania/FSDT_FinAccessMapping/mobilemoney_agents_for_upload_win.csv\")\n",
        "url_list.append(\"https://raw.githubusercontent.com/masterford/ExploratoryDataAnalysis/master/data/momo_financial_incl_tanzania/FSDT_FinAccessMapping/pos_for_upload_win.csv\")\n",
        "url_list.append(\"https://raw.githubusercontent.com/masterford/ExploratoryDataAnalysis/master/data/momo_financial_incl_tanzania/FSDT_FinAccessMapping/post_office_for_upload_win.csv\")\n",
        "url_list.append(\"https://raw.githubusercontent.com/masterford/ExploratoryDataAnalysis/master/data/momo_financial_incl_tanzania/FSDT_FinAccessMapping/sacco_for_upload_win.csv\")\n",
        "\n"
      ],
      "execution_count": 0,
      "outputs": []
    },
    {
      "cell_type": "markdown",
      "metadata": {
        "id": "eIe4fQDr3DqZ",
        "colab_type": "text"
      },
      "source": [
        "\n",
        "\n",
        "For the Exploratory section. I'm taking a deep dive into geo spatial data for Tanzania's financial services industry. The main dataset contains demographic information and what financial services are used by approximately 10,000 individuals across Tanzania. This data was extracted from the FSDT Finscope 2017 survey.\n",
        "The following dataset is the geospatial mapping of all cash outlets in Tanzania in 2012. Cash outlets in this case included commercial banks, community banks, ATMs, microfinance institutions, mobile money agents, bus stations and post offices. This data was collected by FSDT.\n"
      ]
    },
    {
      "cell_type": "code",
      "metadata": {
        "id": "GyiuYeUuulFC",
        "colab_type": "code",
        "colab": {
          "base_uri": "https://localhost:8080/",
          "height": 71
        },
        "outputId": "4d3b7c44-2bbe-46dd-c3d6-91ffa5b54fe5"
      },
      "source": [
        "#Exploratory Dataframes\n",
        "\n",
        "#financial access points in Tanzania\n",
        "tanzania_map_3rd_df = pd.read_csv(url_list[6], encoding = \"ISO-8859-1\")\n",
        "tanzania_map_atm_df = pd.read_csv(url_list[7], encoding = \"ISO-8859-1\")\n",
        "tanzania_map_banks_df = pd.read_csv(url_list[8], encoding = \"ISO-8859-1\")\n",
        "tanzania_map_busStands_df = pd.read_csv(url_list[9], encoding = \"ISO-8859-1\")\n",
        "tanzania_map_microfinance_df = pd.read_csv(url_list[10], encoding = \"ISO-8859-1\")\n",
        "tanzania_map_momo_agents_df = pd.read_csv(url_list[11], encoding = \"ISO-8859-1\")\n",
        "tanzania_map_post_office_df = pd.read_csv(url_list[13], encoding = \"ISO-8859-1\")\n",
        "\n",
        "#tanzania_map_3rd_df.head(4)\n",
        "#anzania_map_atm_df.head(4)"
      ],
      "execution_count": 42,
      "outputs": [
        {
          "output_type": "stream",
          "text": [
            "/usr/local/lib/python3.6/dist-packages/IPython/core/interactiveshell.py:2718: DtypeWarning: Columns (26,32,33,42,74) have mixed types.Specify dtype option on import or set low_memory=False.\n",
            "  interactivity=interactivity, compiler=compiler, result=result)\n"
          ],
          "name": "stderr"
        }
      ]
    },
    {
      "cell_type": "markdown",
      "metadata": {
        "id": "9lePxJB4NORJ",
        "colab_type": "text"
      },
      "source": [
        "Data Cleaning.\n",
        "\n",
        "\n",
        "The next step is to clean the data by removing columns we don't need as well as erroneous values "
      ]
    },
    {
      "cell_type": "code",
      "metadata": {
        "id": "bzsSjZ_F1CKo",
        "colab_type": "code",
        "colab": {}
      },
      "source": [
        "#This cell should only be run once\n",
        "tanzania_map_post_office_df = tanzania_map_post_office_df.drop(columns=['post_office_yr_started', 'services_EMS_courier', 'services_philatel'])\n",
        "tanzania_map_atm_df = tanzania_map_atm_df.drop(columns=['other_services', 'umoja_nmb'])\n",
        "tanzania_map_busStands_df = tanzania_map_busStands_df.drop(columns=['destination_Arusha', 'destination_Manyara', 'destination_Singida', 'destination_Pwani', 'destination_Mororgoro', 'destination_Iringa', 'destination_Ruvuma', 'destination_Mbeya', 'destination_Rukwa', 'destination_Tanga', 'destination_Kilimanjaro', \n",
        "                                        'destination_Tabora', 'destination_Kigoma', 'destination_Dodoma', 'destination_Mwanza', 'destination_Kagera', 'destination_Shiyanga', 'other_services', 'other_services_details'])\n",
        "tanzania_map_momo_agents_df = tanzania_map_momo_agents_df.drop(columns=['deposits_tigo_pesa', 'withdrawls_tigo_pesa', 'agent_numbers_tigo_pesa', 'tigo_pesa_agent_number1', 'agent_numbers_airtel_cash', 'airtel_cash_agent_number1', 'airtel_cash_agent_number2',\n",
        "                                                                        'tigo_pesa_agent_number2', 'tigo_pesa_agent_number3', 'tigo_pesa_log_books', 'tigo_pesa_visible_guidance', 'tigo_pesa_visible_guidance_complaints','deposits_airtel_cash', 'withdrawls_airtel_cash',\n",
        "                                                                        'airtel_cash_agent_number3', 'airtel_cash_log_books'])\n"
      ],
      "execution_count": 0,
      "outputs": []
    },
    {
      "cell_type": "code",
      "metadata": {
        "id": "eaRf1FSkJaQI",
        "colab_type": "code",
        "colab": {}
      },
      "source": [
        "#Change Datatypes\n",
        "tanzania_map_banks_df['yr_started_reformatted'] = tanzania_map_banks_df['yr_started_reformatted'].apply(lambda x : pd.to_datetime(x))\n",
        "tanzania_map_banks_df['yr_started'] = tanzania_map_banks_df['yr_started'].apply(lambda x : pd.to_datetime(x))"
      ],
      "execution_count": 0,
      "outputs": []
    },
    {
      "cell_type": "code",
      "metadata": {
        "id": "2c_IpwDZPlmQ",
        "colab_type": "code",
        "colab": {
          "base_uri": "https://localhost:8080/",
          "height": 34
        },
        "outputId": "018b383a-f09d-4967-f041-0672e89837db"
      },
      "source": [
        "tanzania_map_momo_agents_df.shape"
      ],
      "execution_count": 59,
      "outputs": [
        {
          "output_type": "execute_result",
          "data": {
            "text/plain": [
              "(45429, 96)"
            ]
          },
          "metadata": {
            "tags": []
          },
          "execution_count": 59
        }
      ]
    },
    {
      "cell_type": "code",
      "metadata": {
        "id": "AXBNM-DaM7uU",
        "colab_type": "code",
        "colab": {
          "base_uri": "https://localhost:8080/",
          "height": 394
        },
        "outputId": "21e99d1b-f93e-4fff-d2ba-a79378decbaa"
      },
      "source": [
        "tanzania_map_atm_df.head(5)"
      ],
      "execution_count": 61,
      "outputs": [
        {
          "output_type": "execute_result",
          "data": {
            "text/html": [
              "<div>\n",
              "<style scoped>\n",
              "    .dataframe tbody tr th:only-of-type {\n",
              "        vertical-align: middle;\n",
              "    }\n",
              "\n",
              "    .dataframe tbody tr th {\n",
              "        vertical-align: top;\n",
              "    }\n",
              "\n",
              "    .dataframe thead th {\n",
              "        text-align: right;\n",
              "    }\n",
              "</style>\n",
              "<table border=\"1\" class=\"dataframe\">\n",
              "  <thead>\n",
              "    <tr style=\"text-align: right;\">\n",
              "      <th></th>\n",
              "      <th>region</th>\n",
              "      <th>district</th>\n",
              "      <th>ward</th>\n",
              "      <th>latitude</th>\n",
              "      <th>longitude</th>\n",
              "      <th>onsite_offsite</th>\n",
              "      <th>bank_type</th>\n",
              "      <th>bank_name</th>\n",
              "      <th>bank_name_short</th>\n",
              "      <th>yr_operation_started</th>\n",
              "      <th>number_atms</th>\n",
              "      <th>services_deposits</th>\n",
              "      <th>services_withdrawls</th>\n",
              "      <th>services_bill_payment</th>\n",
              "      <th>services_buy_airtime</th>\n",
              "      <th>visa_mastercard</th>\n",
              "    </tr>\n",
              "  </thead>\n",
              "  <tbody>\n",
              "    <tr>\n",
              "      <th>0</th>\n",
              "      <td>Dar es Salaam</td>\n",
              "      <td>Ilala</td>\n",
              "      <td>Kariakoo</td>\n",
              "      <td>-6.82175</td>\n",
              "      <td>39.28000</td>\n",
              "      <td>On-site</td>\n",
              "      <td>Commercial Bank ATM</td>\n",
              "      <td>Accessbank (Tanzania) Limited</td>\n",
              "      <td>Access</td>\n",
              "      <td>11/12/2003</td>\n",
              "      <td>1</td>\n",
              "      <td>NaN</td>\n",
              "      <td>Yes</td>\n",
              "      <td>NaN</td>\n",
              "      <td>NaN</td>\n",
              "      <td>Both</td>\n",
              "    </tr>\n",
              "    <tr>\n",
              "      <th>1</th>\n",
              "      <td>Dar es Salaam</td>\n",
              "      <td>Ilala</td>\n",
              "      <td>Kariakoo</td>\n",
              "      <td>-6.81967</td>\n",
              "      <td>39.27322</td>\n",
              "      <td>On-site</td>\n",
              "      <td>UMOJA SWITCH ATM</td>\n",
              "      <td>Accessbank (Tanzania) Limited</td>\n",
              "      <td>Access</td>\n",
              "      <td>09/01/2014</td>\n",
              "      <td>1</td>\n",
              "      <td>NaN</td>\n",
              "      <td>Yes</td>\n",
              "      <td>NaN</td>\n",
              "      <td>NaN</td>\n",
              "      <td>VISA</td>\n",
              "    </tr>\n",
              "    <tr>\n",
              "      <th>2</th>\n",
              "      <td>Dar es Salaam</td>\n",
              "      <td>Kinondoni</td>\n",
              "      <td>Manzese</td>\n",
              "      <td>-6.80376</td>\n",
              "      <td>39.26055</td>\n",
              "      <td>On-site</td>\n",
              "      <td>Commercial Bank ATM</td>\n",
              "      <td>Accessbank (Tanzania) Limited</td>\n",
              "      <td>Access</td>\n",
              "      <td>07/05/2010</td>\n",
              "      <td>1</td>\n",
              "      <td>NaN</td>\n",
              "      <td>Yes</td>\n",
              "      <td>NaN</td>\n",
              "      <td>NaN</td>\n",
              "      <td>VISA</td>\n",
              "    </tr>\n",
              "    <tr>\n",
              "      <th>3</th>\n",
              "      <td>Dar es Salaam</td>\n",
              "      <td>Kinondoni</td>\n",
              "      <td>Makumbusho</td>\n",
              "      <td>-6.77668</td>\n",
              "      <td>39.24587</td>\n",
              "      <td>On-site</td>\n",
              "      <td>Commercial Bank ATM</td>\n",
              "      <td>Accessbank (Tanzania) Limited</td>\n",
              "      <td>Access</td>\n",
              "      <td>17/11/2011</td>\n",
              "      <td>1</td>\n",
              "      <td>NaN</td>\n",
              "      <td>Yes</td>\n",
              "      <td>NaN</td>\n",
              "      <td>NaN</td>\n",
              "      <td>Mastercard</td>\n",
              "    </tr>\n",
              "    <tr>\n",
              "      <th>4</th>\n",
              "      <td>Tabora</td>\n",
              "      <td>Tabora Urban</td>\n",
              "      <td>Kanyenye</td>\n",
              "      <td>-5.02275</td>\n",
              "      <td>32.80941</td>\n",
              "      <td>On-site</td>\n",
              "      <td>Commercial Bank ATM</td>\n",
              "      <td>Accessbank (Tanzania) Limited</td>\n",
              "      <td>Access</td>\n",
              "      <td>18/12/2013</td>\n",
              "      <td>2</td>\n",
              "      <td>Yes</td>\n",
              "      <td>Yes</td>\n",
              "      <td>Yes</td>\n",
              "      <td>Yes</td>\n",
              "      <td>Both</td>\n",
              "    </tr>\n",
              "  </tbody>\n",
              "</table>\n",
              "</div>"
            ],
            "text/plain": [
              "          region      district  ... services_buy_airtime  visa_mastercard\n",
              "0  Dar es Salaam         Ilala  ...                  NaN             Both\n",
              "1  Dar es Salaam         Ilala  ...                  NaN             VISA\n",
              "2  Dar es Salaam     Kinondoni  ...                  NaN             VISA\n",
              "3  Dar es Salaam     Kinondoni  ...                  NaN       Mastercard\n",
              "4         Tabora  Tabora Urban  ...                  Yes             Both\n",
              "\n",
              "[5 rows x 16 columns]"
            ]
          },
          "metadata": {
            "tags": []
          },
          "execution_count": 61
        }
      ]
    },
    {
      "cell_type": "code",
      "metadata": {
        "id": "1PXPOyombbTM",
        "colab_type": "code",
        "colab": {
          "base_uri": "https://localhost:8080/",
          "height": 289
        },
        "outputId": "dd58302d-910b-4165-af54-7fbfeca16983"
      },
      "source": [
        "tanzania_map_banks_df.head(5)"
      ],
      "execution_count": 62,
      "outputs": [
        {
          "output_type": "execute_result",
          "data": {
            "text/html": [
              "<div>\n",
              "<style scoped>\n",
              "    .dataframe tbody tr th:only-of-type {\n",
              "        vertical-align: middle;\n",
              "    }\n",
              "\n",
              "    .dataframe tbody tr th {\n",
              "        vertical-align: top;\n",
              "    }\n",
              "\n",
              "    .dataframe thead th {\n",
              "        text-align: right;\n",
              "    }\n",
              "</style>\n",
              "<table border=\"1\" class=\"dataframe\">\n",
              "  <thead>\n",
              "    <tr style=\"text-align: right;\">\n",
              "      <th></th>\n",
              "      <th>region</th>\n",
              "      <th>district</th>\n",
              "      <th>ward</th>\n",
              "      <th>latitude</th>\n",
              "      <th>longitude</th>\n",
              "      <th>bank_type</th>\n",
              "      <th>bank_name</th>\n",
              "      <th>weekend_trading</th>\n",
              "      <th>yr_started</th>\n",
              "      <th>yr_started_reformatted</th>\n",
              "    </tr>\n",
              "  </thead>\n",
              "  <tbody>\n",
              "    <tr>\n",
              "      <th>0</th>\n",
              "      <td>Dar es Salaam</td>\n",
              "      <td>Temeke</td>\n",
              "      <td>Mbagala</td>\n",
              "      <td>-6.92247</td>\n",
              "      <td>39.27113</td>\n",
              "      <td>Commercial Bank</td>\n",
              "      <td>Accessbank (Tanzania) Limited</td>\n",
              "      <td>Yes</td>\n",
              "      <td>16/05/11</td>\n",
              "      <td>2011-5-01</td>\n",
              "    </tr>\n",
              "    <tr>\n",
              "      <th>1</th>\n",
              "      <td>Shinyanga</td>\n",
              "      <td>Kahama</td>\n",
              "      <td>Kahama Mjini</td>\n",
              "      <td>-3.82858</td>\n",
              "      <td>32.60006</td>\n",
              "      <td>Commercial Bank</td>\n",
              "      <td>Accessbank (Tanzania) Limited</td>\n",
              "      <td>No</td>\n",
              "      <td>12/07/13</td>\n",
              "      <td>2013-7-01</td>\n",
              "    </tr>\n",
              "    <tr>\n",
              "      <th>2</th>\n",
              "      <td>Dar es Salaam</td>\n",
              "      <td>Temeke</td>\n",
              "      <td>Miburani</td>\n",
              "      <td>-6.86209</td>\n",
              "      <td>39.26233</td>\n",
              "      <td>Commercial Bank</td>\n",
              "      <td>Accessbank (Tanzania) Limited</td>\n",
              "      <td>Yes</td>\n",
              "      <td>05/03/98</td>\n",
              "      <td>1998-3-01</td>\n",
              "    </tr>\n",
              "    <tr>\n",
              "      <th>3</th>\n",
              "      <td>Dar es Salaam</td>\n",
              "      <td>Ilala</td>\n",
              "      <td>Kariakoo</td>\n",
              "      <td>-6.82157</td>\n",
              "      <td>39.28025</td>\n",
              "      <td>Commercial Bank</td>\n",
              "      <td>Accessbank (Tanzania) Limited</td>\n",
              "      <td>Yes</td>\n",
              "      <td>10/06/09</td>\n",
              "      <td>2009-6-01</td>\n",
              "    </tr>\n",
              "    <tr>\n",
              "      <th>4</th>\n",
              "      <td>Dar es Salaam</td>\n",
              "      <td>Ilala</td>\n",
              "      <td>Kariakoo</td>\n",
              "      <td>-6.81944</td>\n",
              "      <td>39.27418</td>\n",
              "      <td>Commercial Bank</td>\n",
              "      <td>Accessbank (Tanzania) Limited</td>\n",
              "      <td>Yes</td>\n",
              "      <td>18/12/13</td>\n",
              "      <td>2013-12-01</td>\n",
              "    </tr>\n",
              "  </tbody>\n",
              "</table>\n",
              "</div>"
            ],
            "text/plain": [
              "          region district  ... yr_started  yr_started_reformatted\n",
              "0  Dar es Salaam   Temeke  ...   16/05/11               2011-5-01\n",
              "1      Shinyanga   Kahama  ...   12/07/13               2013-7-01\n",
              "2  Dar es Salaam   Temeke  ...   05/03/98               1998-3-01\n",
              "3  Dar es Salaam    Ilala  ...   10/06/09               2009-6-01\n",
              "4  Dar es Salaam    Ilala  ...   18/12/13              2013-12-01\n",
              "\n",
              "[5 rows x 10 columns]"
            ]
          },
          "metadata": {
            "tags": []
          },
          "execution_count": 62
        }
      ]
    },
    {
      "cell_type": "code",
      "metadata": {
        "id": "QFMDL0A2d360",
        "colab_type": "code",
        "colab": {
          "base_uri": "https://localhost:8080/",
          "height": 314
        },
        "outputId": "bfc263c1-43a8-4a3f-fe70-287709dbdc1e"
      },
      "source": [
        "#Get bank information in Tanzania by district\n",
        "#conn = sqlite3.connect('local.db')\n",
        "\n",
        "#tanzania_map_banks_df.to_sql(\"tanzania_banks\", conn, if_exists=\"replace\", index=False)\n",
        "\n",
        "#district_bank_count_df = pd.read_sql_query('select district, COUNT(district) AS total  from tanzania_banks GROUP BY district ORDER BY total desc LIMIT 10', conn)\n",
        "\n",
        "#plot\n",
        "labels = district_bank_count_df['district'].tolist()\n",
        "sizes = district_bank_count_df['total'].tolist()\n",
        "colors = ['aquamarine','slateblue','gold','salmon','mediumaquamarine','orchid','dodgerblue','olive','slategrey','indigo']\n",
        "patches, texts = plt.pie(sizes, colors=colors, shadow=True, startangle=0)\n",
        "plt.legend(patches, labels, loc=\"best\")\n",
        "plt.axis('equal')\n",
        "plt.tight_layout()\n",
        "plt.show()\n",
        "\n",
        "#Get statistics\n",
        "sizes.sort\n",
        "total = sum(sizes)\n",
        "llana = (sizes[0]/total) * 100\n",
        "Kinondoni = (sizes[1]/total) * 100\n",
        "Temeke = (sizes[2] / total) *100\n",
        "Arusha = (sizes[3] / total) * 100\n",
        "\n",
        "print(llana, Kinondoni, Temeke, Arusha)"
      ],
      "execution_count": 102,
      "outputs": [
        {
          "output_type": "display_data",
          "data": {
            "image/png": "[encoded data removed]",
            "text/plain": [
              "<Figure size 432x288 with 1 Axes>"
            ]
          },
          "metadata": {
            "tags": []
          }
        },
        {
          "output_type": "stream",
          "text": [
            "35.98014888337469 16.87344913151365 11.166253101736972 9.429280397022332\n"
          ],
          "name": "stdout"
        }
      ]
    },
    {
      "cell_type": "code",
      "metadata": {
        "id": "dUWjm5UZQ4qo",
        "colab_type": "code",
        "colab": {
          "base_uri": "https://localhost:8080/",
          "height": 34
        },
        "outputId": "c2fccdf4-adc2-4a89-ef12-1e6f8f9bf023"
      },
      "source": [
        "print(sizes)"
      ],
      "execution_count": 101,
      "outputs": [
        {
          "output_type": "stream",
          "text": [
            "[145, 68, 45, 38, 31, 20, 16, 15, 13, 12]\n"
          ],
          "name": "stdout"
        }
      ]
    },
    {
      "cell_type": "code",
      "metadata": {
        "id": "czGmzxvnofJu",
        "colab_type": "code",
        "colab": {}
      },
      "source": [
        "#Show changes in number of banks over time\n",
        "tanzania_map_banks_df.dtypes\n",
        "\n",
        "#tanzania_map_banks_df.to_sql(\"tanzania_banks_date\", conn, if_exists=\"replace\", index=False)\n",
        "last_decade_df = pd.read_sql_query('''SELECT * FROM tanzania_banks WHERE yr_started_reformatted\n",
        "         >= \"2000-01-01\" AND yr_started_reformatted <= \"2010-12-31\" ''', conn)\n",
        "\n",
        "current_decade_df = pd.read_sql_query('''SELECT * FROM tanzania_banks WHERE yr_started_reformatted\n",
        "         >= \"2010-01-01\" ''', conn)\n",
        "\n",
        "ninetys_decade_df = pd.read_sql_query('''SELECT * FROM tanzania_banks WHERE yr_started_reformatted\n",
        "                                        <= \"2000-01-01\" ''', conn)"
      ],
      "execution_count": 0,
      "outputs": []
    },
    {
      "cell_type": "code",
      "metadata": {
        "id": "DQ6B_UA4I1Pr",
        "colab_type": "code",
        "colab": {
          "base_uri": "https://localhost:8080/",
          "height": 34
        },
        "outputId": "a65a081d-0707-4740-e17c-b3d153097e83"
      },
      "source": [
        "shape_last = last_decade_df.shape\n",
        "shape_current = current_decade_df.shape\n",
        "shape_ninety = ninetys_decade_df.shape\n",
        "print(shape_current, shape_last, shape_ninety)"
      ],
      "execution_count": 91,
      "outputs": [
        {
          "output_type": "stream",
          "text": [
            "(299, 10) (226, 10) (121, 10)\n"
          ],
          "name": "stdout"
        }
      ]
    },
    {
      "cell_type": "code",
      "metadata": {
        "id": "qH-LJLgeofZO",
        "colab_type": "code",
        "colab": {
          "base_uri": "https://localhost:8080/",
          "height": 314
        },
        "outputId": "4ac80c62-d11d-4e89-afd7-468e74d5bc78"
      },
      "source": [
        "#plot\n",
        "labels = ['2010s', '2000s', '1990s']\n",
        "sizes = [shape_current[0], shape_last[0], shape_ninety[0]]\n",
        "colors = ['slateblue','gold', 'orchid']\n",
        "patches, texts = plt.pie(sizes, colors=colors, shadow=True, startangle=0)\n",
        "plt.legend(patches, labels, loc=\"best\")\n",
        "plt.axis('equal')\n",
        "plt.tight_layout()\n",
        "plt.show()\n",
        "\n",
        "#statistics\n",
        "sizes.sort\n",
        "total = sum(sizes)\n",
        "current = (sizes[0]/total) * 100\n",
        "last = (sizes[1]/total) * 100\n",
        "ninety = (sizes[2]/total) * 100\n",
        "print(current, last, ninety)"
      ],
      "execution_count": 103,
      "outputs": [
        {
          "output_type": "display_data",
          "data": {
            "image/png": "[encoded data removed]",
            "text/plain": [
              "<Figure size 432x288 with 1 Axes>"
            ]
          },
          "metadata": {
            "tags": []
          }
        },
        {
          "output_type": "stream",
          "text": [
            "46.28482972136223 34.984520123839005 18.730650154798763\n"
          ],
          "name": "stdout"
        }
      ]
    },
    {
      "cell_type": "markdown",
      "metadata": {
        "id": "X_5l08NxYo-G",
        "colab_type": "text"
      },
      "source": [
        "Using the latitude and longitude columns in the dataset, I can now merge tables with via location as the unique column. To do this, I will first need to convert latitude, longitude into a suitable location object"
      ]
    },
    {
      "cell_type": "code",
      "metadata": {
        "id": "IEu9d7tRYoRA",
        "colab_type": "code",
        "colab": {}
      },
      "source": [
        "from geopy.geocoders import Nominatim\n",
        "geolocator = Nominatim(user_agent=\"CIS_545\")\n",
        "\n",
        "def get_zipcode(latlong):\n",
        "  location = geolocator.reverse(latlong)\n",
        "  return location.raw['address']['postcode']\n",
        "\n",
        "def get_address(latlong):\n",
        "  location = geolocator.reverse(latlong)\n",
        "  return location.raw['address']"
      ],
      "execution_count": 0,
      "outputs": []
    },
    {
      "cell_type": "code",
      "metadata": {
        "id": "uzSX91OaZG20",
        "colab_type": "code",
        "colab": {
          "base_uri": "https://localhost:8080/",
          "height": 119
        },
        "outputId": "e0f84ec7-b260-403a-b26a-fde1b6ffbd1b"
      },
      "source": [
        "#get_zipcode(\"40.64749,-73.97237\")\n",
        "get_address(\"-6.92247,39.27113\")"
      ],
      "execution_count": 109,
      "outputs": [
        {
          "output_type": "execute_result",
          "data": {
            "text/plain": [
              "{'city': 'Dar es Salaam',\n",
              " 'country': 'Tanzania',\n",
              " 'country_code': 'tz',\n",
              " 'region': 'Coastal Zone',\n",
              " 'road': 'T7',\n",
              " 'suburb': 'Mbagala'}"
            ]
          },
          "metadata": {
            "tags": []
          },
          "execution_count": 109
        }
      ]
    },
    {
      "cell_type": "code",
      "metadata": {
        "id": "7mdObNGtE4nR",
        "colab_type": "code",
        "colab": {}
      },
      "source": [
        "#Modelling Dataframes\n",
        "financial_incl_train_df = pd.read_csv(url_list[0])\n"
      ],
      "execution_count": 0,
      "outputs": []
    },
    {
      "cell_type": "code",
      "metadata": {
        "id": "GGlT2ryWFT_L",
        "colab_type": "code",
        "outputId": "9b1eb5da-1792-43d7-dff7-32a656d324ea",
        "colab": {
          "base_uri": "https://localhost:8080/",
          "height": 326
        }
      },
      "source": [
        "financial_incl_train_df.head(5)"
      ],
      "execution_count": 0,
      "outputs": [
        {
          "output_type": "execute_result",
          "data": {
            "text/html": [
              "<div>\n",
              "<style scoped>\n",
              "    .dataframe tbody tr th:only-of-type {\n",
              "        vertical-align: middle;\n",
              "    }\n",
              "\n",
              "    .dataframe tbody tr th {\n",
              "        vertical-align: top;\n",
              "    }\n",
              "\n",
              "    .dataframe thead th {\n",
              "        text-align: right;\n",
              "    }\n",
              "</style>\n",
              "<table border=\"1\" class=\"dataframe\">\n",
              "  <thead>\n",
              "    <tr style=\"text-align: right;\">\n",
              "      <th></th>\n",
              "      <th>country</th>\n",
              "      <th>year</th>\n",
              "      <th>uniqueid</th>\n",
              "      <th>bank_account</th>\n",
              "      <th>location_type</th>\n",
              "      <th>cellphone_access</th>\n",
              "      <th>household_size</th>\n",
              "      <th>age_of_respondent</th>\n",
              "      <th>gender_of_respondent</th>\n",
              "      <th>relationship_with_head</th>\n",
              "      <th>marital_status</th>\n",
              "      <th>education_level</th>\n",
              "      <th>job_type</th>\n",
              "    </tr>\n",
              "  </thead>\n",
              "  <tbody>\n",
              "    <tr>\n",
              "      <th>0</th>\n",
              "      <td>Kenya</td>\n",
              "      <td>2018</td>\n",
              "      <td>uniqueid_1</td>\n",
              "      <td>Yes</td>\n",
              "      <td>Rural</td>\n",
              "      <td>Yes</td>\n",
              "      <td>3</td>\n",
              "      <td>24</td>\n",
              "      <td>Female</td>\n",
              "      <td>Spouse</td>\n",
              "      <td>Married/Living together</td>\n",
              "      <td>Secondary education</td>\n",
              "      <td>Self employed</td>\n",
              "    </tr>\n",
              "    <tr>\n",
              "      <th>1</th>\n",
              "      <td>Kenya</td>\n",
              "      <td>2018</td>\n",
              "      <td>uniqueid_2</td>\n",
              "      <td>No</td>\n",
              "      <td>Rural</td>\n",
              "      <td>No</td>\n",
              "      <td>5</td>\n",
              "      <td>70</td>\n",
              "      <td>Female</td>\n",
              "      <td>Head of Household</td>\n",
              "      <td>Widowed</td>\n",
              "      <td>No formal education</td>\n",
              "      <td>Government Dependent</td>\n",
              "    </tr>\n",
              "    <tr>\n",
              "      <th>2</th>\n",
              "      <td>Kenya</td>\n",
              "      <td>2018</td>\n",
              "      <td>uniqueid_3</td>\n",
              "      <td>Yes</td>\n",
              "      <td>Urban</td>\n",
              "      <td>Yes</td>\n",
              "      <td>5</td>\n",
              "      <td>26</td>\n",
              "      <td>Male</td>\n",
              "      <td>Other relative</td>\n",
              "      <td>Single/Never Married</td>\n",
              "      <td>Vocational/Specialised training</td>\n",
              "      <td>Self employed</td>\n",
              "    </tr>\n",
              "    <tr>\n",
              "      <th>3</th>\n",
              "      <td>Kenya</td>\n",
              "      <td>2018</td>\n",
              "      <td>uniqueid_4</td>\n",
              "      <td>No</td>\n",
              "      <td>Rural</td>\n",
              "      <td>Yes</td>\n",
              "      <td>5</td>\n",
              "      <td>34</td>\n",
              "      <td>Female</td>\n",
              "      <td>Head of Household</td>\n",
              "      <td>Married/Living together</td>\n",
              "      <td>Primary education</td>\n",
              "      <td>Formally employed Private</td>\n",
              "    </tr>\n",
              "    <tr>\n",
              "      <th>4</th>\n",
              "      <td>Kenya</td>\n",
              "      <td>2018</td>\n",
              "      <td>uniqueid_5</td>\n",
              "      <td>No</td>\n",
              "      <td>Urban</td>\n",
              "      <td>No</td>\n",
              "      <td>8</td>\n",
              "      <td>26</td>\n",
              "      <td>Male</td>\n",
              "      <td>Child</td>\n",
              "      <td>Single/Never Married</td>\n",
              "      <td>Primary education</td>\n",
              "      <td>Informally employed</td>\n",
              "    </tr>\n",
              "  </tbody>\n",
              "</table>\n",
              "</div>"
            ],
            "text/plain": [
              "  country  year  ...                  education_level                   job_type\n",
              "0   Kenya  2018  ...              Secondary education              Self employed\n",
              "1   Kenya  2018  ...              No formal education       Government Dependent\n",
              "2   Kenya  2018  ...  Vocational/Specialised training              Self employed\n",
              "3   Kenya  2018  ...                Primary education  Formally employed Private\n",
              "4   Kenya  2018  ...                Primary education        Informally employed\n",
              "\n",
              "[5 rows x 13 columns]"
            ]
          },
          "metadata": {
            "tags": []
          },
          "execution_count": 6
        }
      ]
    }
  ]
}